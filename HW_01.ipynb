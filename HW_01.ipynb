{
 "cells": [
  {
   "cell_type": "code",
   "execution_count": 2,
   "metadata": {},
   "outputs": [
    {
     "name": "stdout",
     "output_type": "stream",
     "text": [
      "Requirement already satisfied: torch in c:\\programdata\\anaconda3\\lib\\site-packages (1.11.0)\n",
      "Requirement already satisfied: typing-extensions in c:\\programdata\\anaconda3\\lib\\site-packages (from torch) (3.10.0.2)\n"
     ]
    }
   ],
   "source": [
    "!pip install torch"
   ]
  },
  {
   "cell_type": "code",
   "execution_count": 1,
   "metadata": {},
   "outputs": [],
   "source": [
    "import torch\n",
    "from torch.autograd import Variable\n",
    "from torch import nn \n",
    "from torch import optim"
   ]
  },
  {
   "cell_type": "code",
   "execution_count": 38,
   "metadata": {},
   "outputs": [],
   "source": [
    "# Создайте случайный FloatTensor размера 3x4x5\n",
    "tensor = torch.FloatTensor(torch.rand(3,4,5))"
   ]
  },
  {
   "cell_type": "code",
   "execution_count": 39,
   "metadata": {},
   "outputs": [
    {
     "data": {
      "text/plain": [
       "torch.Size([3, 4, 5])"
      ]
     },
     "execution_count": 39,
     "metadata": {},
     "output_type": "execute_result"
    }
   ],
   "source": [
    "# Выведите его форму (shape)\n",
    "tensor.size()"
   ]
  },
  {
   "cell_type": "code",
   "execution_count": 40,
   "metadata": {},
   "outputs": [
    {
     "data": {
      "text/plain": [
       "tensor([[0.3814, 0.5191, 0.9181, 0.3312, 0.5767, 0.4381, 0.8117, 0.9652, 0.9546,\n",
       "         0.6559],\n",
       "        [0.3887, 0.6700, 0.1186, 0.7295, 0.9962, 0.7074, 0.6006, 0.4262, 0.0868,\n",
       "         0.8623],\n",
       "        [0.0958, 0.0831, 0.2047, 0.8418, 0.3804, 0.4521, 0.5120, 0.8677, 0.3540,\n",
       "         0.9467],\n",
       "        [0.0221, 0.1906, 0.5844, 0.0217, 0.6655, 0.0836, 0.8308, 0.7053, 0.8447,\n",
       "         0.9559],\n",
       "        [0.1824, 0.9476, 0.9918, 0.3257, 0.5760, 0.9610, 0.7269, 0.1508, 0.0216,\n",
       "         0.6894],\n",
       "        [0.1121, 0.7228, 0.5285, 0.1532, 0.2445, 0.8619, 0.4431, 0.3858, 0.5500,\n",
       "         0.0882]])"
      ]
     },
     "execution_count": 40,
     "metadata": {},
     "output_type": "execute_result"
    }
   ],
   "source": [
    "# Приведите его к форме 6 X 10\n",
    "tensor = tensor.view(6,10)\n",
    "tensor"
   ]
  },
  {
   "cell_type": "code",
   "execution_count": 45,
   "metadata": {
    "scrolled": false
   },
   "outputs": [
    {
     "data": {
      "text/plain": [
       "tensor([[0.3814, 2.0763, 1.8361, 0.6625, 0.5767, 0.4381, 3.2468, 1.9305, 1.9091,\n",
       "         0.6559],\n",
       "        [0.3887, 2.6798, 0.2372, 1.4591, 0.9962, 0.7074, 2.4025, 0.8524, 0.1736,\n",
       "         0.8623],\n",
       "        [0.0958, 0.3325, 0.4093, 1.6835, 0.3804, 0.4521, 2.0479, 1.7354, 0.7080,\n",
       "         0.9467],\n",
       "        [0.0221, 0.7625, 1.1687, 0.0435, 0.6655, 0.0836, 3.3233, 1.4105, 1.6894,\n",
       "         0.9559],\n",
       "        [0.1824, 3.7904, 1.9835, 0.6513, 0.5760, 0.9610, 2.9077, 0.3016, 0.0431,\n",
       "         0.6894],\n",
       "        [0.1121, 2.8911, 1.0570, 0.3063, 0.2445, 0.8619, 1.7723, 0.7716, 1.1000,\n",
       "         0.0882]])"
      ]
     },
     "execution_count": 45,
     "metadata": {},
     "output_type": "execute_result"
    }
   ],
   "source": [
    "# Умножьте его на вектор [1, 4, 2, 2, 1] поэлементно\n",
    "# тут возможно два варианта поэлементного умножения: перебирать элементы множимого и умножать их\n",
    "# на вектор или такой (результат будет, конечно, разным)\n",
    "tensor = (tensor.view(-1, 5) * torch.FloatTensor([1, 4, 2, 2, 1])).view(6,10)\n",
    "tensor"
   ]
  },
  {
   "cell_type": "code",
   "execution_count": 48,
   "metadata": {},
   "outputs": [
    {
     "data": {
      "text/plain": [
       "tensor([[27.1345, 18.3414, 14.9829, 21.5519, 23.3236, 18.1096],\n",
       "        [18.3414, 18.2823, 11.5188, 13.4184, 20.7475, 14.5247],\n",
       "        [14.9829, 11.5188, 12.0736, 12.4527, 11.0009,  8.2339],\n",
       "        [21.5519, 13.4184, 12.4527, 19.2010, 16.5246, 12.6111],\n",
       "        [23.3236, 20.7475, 11.0009, 16.5246, 29.0372, 19.7385],\n",
       "        [18.1096, 14.5247,  8.2339, 12.6111, 19.7385, 15.3390]])"
      ]
     },
     "execution_count": 48,
     "metadata": {},
     "output_type": "execute_result"
    }
   ],
   "source": [
    "# Умножьте тензор матрично на себя, чтобы результат был размерности 6x6\n",
    "torch.mm(tensor, tensor.transpose(0, 1))"
   ]
  },
  {
   "cell_type": "code",
   "execution_count": 69,
   "metadata": {},
   "outputs": [
    {
     "name": "stdout",
     "output_type": "stream",
     "text": [
      "x.grad.item()=3.0\n",
      "z.grad.item()=1.0\n",
      "t.grad.item()=-75.0\n"
     ]
    }
   ],
   "source": [
    "# Посчитайте производную функции y = x**3 + z - 75t в точке (1, 0.5, 2)\n",
    "x = torch.tensor(1.0, requires_grad = True)\n",
    "z = torch.tensor(0.5, requires_grad = True)\n",
    "t = torch.tensor(2.0, requires_grad = True)\n",
    "y = x**3 + z - 75*t\n",
    "y.backward()\n",
    "print(f'{x.grad.item()=}\\n{z.grad.item()=}\\n{t.grad.item()=}')"
   ]
  },
  {
   "cell_type": "code",
   "execution_count": 70,
   "metadata": {},
   "outputs": [
    {
     "data": {
      "text/plain": [
       "tensor([[1., 1., 1., 1., 1., 1.],\n",
       "        [1., 1., 1., 1., 1., 1.],\n",
       "        [1., 1., 1., 1., 1., 1.],\n",
       "        [1., 1., 1., 1., 1., 1.],\n",
       "        [1., 1., 1., 1., 1., 1.]])"
      ]
     },
     "execution_count": 70,
     "metadata": {},
     "output_type": "execute_result"
    }
   ],
   "source": [
    "# Создайте единичный тензор размера 5x6\n",
    "ones = torch.ones(5,6)\n",
    "ones"
   ]
  },
  {
   "cell_type": "code",
   "execution_count": 75,
   "metadata": {},
   "outputs": [
    {
     "data": {
      "text/plain": [
       "numpy.ndarray"
      ]
     },
     "execution_count": 75,
     "metadata": {},
     "output_type": "execute_result"
    }
   ],
   "source": [
    "# Переведите его в формат numpy\n",
    "type(ones.numpy())"
   ]
  },
  {
   "cell_type": "code",
   "execution_count": 206,
   "metadata": {},
   "outputs": [],
   "source": [
    "# Давайте теперь пооптимизируем: возьмите функцию y = x**w1 - 2 * x**2 + 5\n",
    "# Посчитайте "
   ]
  },
  {
   "cell_type": "code",
   "execution_count": 2,
   "metadata": {},
   "outputs": [],
   "source": [
    "def func(w, x):\n",
    "    return x**w1 - 2*x**2 + 5"
   ]
  },
  {
   "cell_type": "code",
   "execution_count": 3,
   "metadata": {},
   "outputs": [],
   "source": [
    "x = Variable(torch.randn(5), requires_grad=True)\n",
    "w1 = 2 #2.345667"
   ]
  },
  {
   "cell_type": "code",
   "execution_count": 4,
   "metadata": {},
   "outputs": [
    {
     "data": {
      "text/plain": [
       "tensor([ 4.7424, -0.1352,  4.1997,  3.8636,  4.5522])"
      ]
     },
     "execution_count": 4,
     "metadata": {},
     "output_type": "execute_result"
    }
   ],
   "source": [
    "y = Variable(torch.tensor([func(w1, xi) for xi in x]), requires_grad=False) \n",
    "y"
   ]
  },
  {
   "cell_type": "code",
   "execution_count": 5,
   "metadata": {},
   "outputs": [
    {
     "data": {
      "text/plain": [
       "tensor([-0.7165], requires_grad=True)"
      ]
     },
     "execution_count": 5,
     "metadata": {},
     "output_type": "execute_result"
    }
   ],
   "source": [
    "w1 = torch.randn(1)\n",
    "w1.requires_grad_()"
   ]
  },
  {
   "cell_type": "code",
   "execution_count": 6,
   "metadata": {},
   "outputs": [],
   "source": [
    "criterion = nn.MSELoss()\n",
    "optimizer = torch.optim.SGD([w1], lr=1)"
   ]
  },
  {
   "cell_type": "code",
   "execution_count": 7,
   "metadata": {},
   "outputs": [
    {
     "name": "stderr",
     "output_type": "stream",
     "text": [
      "C:\\ProgramData\\Anaconda3\\lib\\site-packages\\torch\\nn\\modules\\loss.py:529: UserWarning: Using a target size (torch.Size([])) that is different to the input size (torch.Size([1])). This will likely lead to incorrect results due to broadcasting. Please ensure they have the same size.\n",
      "  return F.mse_loss(input, target, reduction=self.reduction)\n"
     ]
    },
    {
     "name": "stdout",
     "output_type": "stream",
     "text": [
      "loss:  1.871405839920044\n",
      "iteration 0, w1=tensor([2.2996], requires_grad=True), y=tensor([4.6950], grad_fn=<AddBackward0>)\n",
      "loss:  0.002243777271360159\n",
      "iteration 1, w1=tensor([2.2861], requires_grad=True), y=tensor([4.6969], grad_fn=<AddBackward0>)\n",
      "loss:  0.0020642480812966824\n",
      "iteration 2, w1=tensor([2.2730], requires_grad=True), y=tensor([4.6988], grad_fn=<AddBackward0>)\n",
      "loss:  0.0018961053574457765\n",
      "iteration 3, w1=tensor([2.2604], requires_grad=True), y=tensor([4.7007], grad_fn=<AddBackward0>)\n",
      "loss:  0.0017389600398018956\n",
      "iteration 4, w1=tensor([2.2482], requires_grad=True), y=tensor([4.7025], grad_fn=<AddBackward0>)\n",
      "loss:  0.00159245275426656\n",
      "iteration 5, w1=tensor([2.2364], requires_grad=True), y=tensor([4.7042], grad_fn=<AddBackward0>)\n",
      "loss:  0.0014561011921614408\n",
      "iteration 6, w1=tensor([2.2250], requires_grad=True), y=tensor([4.7059], grad_fn=<AddBackward0>)\n",
      "loss:  0.0013294650707393885\n",
      "iteration 7, w1=tensor([2.2141], requires_grad=True), y=tensor([4.7076], grad_fn=<AddBackward0>)\n",
      "loss:  0.0012121058534830809\n",
      "iteration 8, w1=tensor([2.2036], requires_grad=True), y=tensor([4.7092], grad_fn=<AddBackward0>)\n",
      "loss:  0.0011035877978429198\n",
      "iteration 9, w1=tensor([2.1935], requires_grad=True), y=tensor([4.7107], grad_fn=<AddBackward0>)\n",
      "loss:  0.0010033875005319715\n",
      "iteration 10, w1=tensor([2.1838], requires_grad=True), y=tensor([4.7122], grad_fn=<AddBackward0>)\n",
      "loss:  0.0009110901155509055\n",
      "iteration 11, w1=tensor([2.1745], requires_grad=True), y=tensor([4.7136], grad_fn=<AddBackward0>)\n",
      "loss:  0.0008262027986347675\n",
      "iteration 12, w1=tensor([2.1655], requires_grad=True), y=tensor([4.7150], grad_fn=<AddBackward0>)\n",
      "loss:  0.0007482805522158742\n",
      "iteration 13, w1=tensor([2.1570], requires_grad=True), y=tensor([4.7164], grad_fn=<AddBackward0>)\n",
      "loss:  0.0006768692983314395\n",
      "iteration 14, w1=tensor([2.1488], requires_grad=True), y=tensor([4.7177], grad_fn=<AddBackward0>)\n",
      "loss:  0.0006115594878792763\n",
      "iteration 15, w1=tensor([2.1410], requires_grad=True), y=tensor([4.7189], grad_fn=<AddBackward0>)\n",
      "loss:  0.0005519122933037579\n",
      "iteration 16, w1=tensor([2.1335], requires_grad=True), y=tensor([4.7201], grad_fn=<AddBackward0>)\n",
      "loss:  0.0004975348128937185\n",
      "iteration 17, w1=tensor([2.1264], requires_grad=True), y=tensor([4.7212], grad_fn=<AddBackward0>)\n",
      "loss:  0.0004480334755498916\n",
      "iteration 18, w1=tensor([2.1196], requires_grad=True), y=tensor([4.7223], grad_fn=<AddBackward0>)\n",
      "loss:  0.0004030376730952412\n",
      "iteration 19, w1=tensor([2.1132], requires_grad=True), y=tensor([4.7233], grad_fn=<AddBackward0>)\n",
      "loss:  0.00036219891626387835\n",
      "iteration 20, w1=tensor([2.1070], requires_grad=True), y=tensor([4.7243], grad_fn=<AddBackward0>)\n",
      "loss:  0.0003251900780014694\n",
      "iteration 21, w1=tensor([2.1012], requires_grad=True), y=tensor([4.7253], grad_fn=<AddBackward0>)\n",
      "loss:  0.00029168801847845316\n",
      "iteration 22, w1=tensor([2.0956], requires_grad=True), y=tensor([4.7262], grad_fn=<AddBackward0>)\n",
      "loss:  0.00026142343995161355\n",
      "iteration 23, w1=tensor([2.0903], requires_grad=True), y=tensor([4.7271], grad_fn=<AddBackward0>)\n",
      "loss:  0.00023408379638567567\n",
      "iteration 24, w1=tensor([2.0853], requires_grad=True), y=tensor([4.7279], grad_fn=<AddBackward0>)\n",
      "loss:  0.00020945281721651554\n",
      "iteration 25, w1=tensor([2.0805], requires_grad=True), y=tensor([4.7287], grad_fn=<AddBackward0>)\n",
      "loss:  0.00018725932750385255\n",
      "iteration 26, w1=tensor([2.0760], requires_grad=True), y=tensor([4.7294], grad_fn=<AddBackward0>)\n",
      "loss:  0.00016728139598853886\n",
      "iteration 27, w1=tensor([2.0717], requires_grad=True), y=tensor([4.7302], grad_fn=<AddBackward0>)\n",
      "loss:  0.00014934940554667264\n",
      "iteration 28, w1=tensor([2.0676], requires_grad=True), y=tensor([4.7308], grad_fn=<AddBackward0>)\n",
      "loss:  0.00013323617167770863\n",
      "iteration 29, w1=tensor([2.0637], requires_grad=True), y=tensor([4.7315], grad_fn=<AddBackward0>)\n",
      "loss:  0.00011878966324729845\n",
      "iteration 30, w1=tensor([2.0601], requires_grad=True), y=tensor([4.7321], grad_fn=<AddBackward0>)\n",
      "loss:  0.00010584785195533186\n",
      "iteration 31, w1=tensor([2.0566], requires_grad=True), y=tensor([4.7327], grad_fn=<AddBackward0>)\n",
      "loss:  9.426238102605566e-05\n",
      "iteration 32, w1=tensor([2.0534], requires_grad=True), y=tensor([4.7332], grad_fn=<AddBackward0>)\n",
      "loss:  8.388889546040446e-05\n",
      "iteration 33, w1=tensor([2.0503], requires_grad=True), y=tensor([4.7337], grad_fn=<AddBackward0>)\n",
      "loss:  7.462988287443295e-05\n",
      "iteration 34, w1=tensor([2.0474], requires_grad=True), y=tensor([4.7342], grad_fn=<AddBackward0>)\n",
      "loss:  6.635420868406072e-05\n",
      "iteration 35, w1=tensor([2.0446], requires_grad=True), y=tensor([4.7347], grad_fn=<AddBackward0>)\n",
      "loss:  5.896681977901608e-05\n",
      "iteration 36, w1=tensor([2.0420], requires_grad=True), y=tensor([4.7351], grad_fn=<AddBackward0>)\n",
      "loss:  5.2380455599632114e-05\n",
      "iteration 37, w1=tensor([2.0396], requires_grad=True), y=tensor([4.7356], grad_fn=<AddBackward0>)\n",
      "loss:  4.650864866562188e-05\n",
      "iteration 38, w1=tensor([2.0372], requires_grad=True), y=tensor([4.7360], grad_fn=<AddBackward0>)\n",
      "loss:  4.127938882447779e-05\n",
      "iteration 39, w1=tensor([2.0351], requires_grad=True), y=tensor([4.7363], grad_fn=<AddBackward0>)\n",
      "loss:  3.662691233330406e-05\n",
      "iteration 40, w1=tensor([2.0330], requires_grad=True), y=tensor([4.7367], grad_fn=<AddBackward0>)\n",
      "loss:  3.2480398658663034e-05\n",
      "iteration 41, w1=tensor([2.0310], requires_grad=True), y=tensor([4.7370], grad_fn=<AddBackward0>)\n",
      "loss:  2.8797447157558054e-05\n",
      "iteration 42, w1=tensor([2.0292], requires_grad=True), y=tensor([4.7373], grad_fn=<AddBackward0>)\n",
      "loss:  2.5523610020172782e-05\n",
      "iteration 43, w1=tensor([2.0275], requires_grad=True), y=tensor([4.7376], grad_fn=<AddBackward0>)\n",
      "loss:  2.2614751287619583e-05\n",
      "iteration 44, w1=tensor([2.0258], requires_grad=True), y=tensor([4.7379], grad_fn=<AddBackward0>)\n",
      "loss:  2.003093686653301e-05\n",
      "iteration 45, w1=tensor([2.0243], requires_grad=True), y=tensor([4.7382], grad_fn=<AddBackward0>)\n",
      "loss:  1.7740123439580202e-05\n",
      "iteration 46, w1=tensor([2.0229], requires_grad=True), y=tensor([4.7384], grad_fn=<AddBackward0>)\n",
      "loss:  1.5705318219261244e-05\n",
      "iteration 47, w1=tensor([2.0215], requires_grad=True), y=tensor([4.7387], grad_fn=<AddBackward0>)\n",
      "loss:  1.3900889825890772e-05\n",
      "iteration 48, w1=tensor([2.0202], requires_grad=True), y=tensor([4.7389], grad_fn=<AddBackward0>)\n",
      "loss:  1.2300011803745292e-05\n",
      "iteration 49, w1=tensor([2.0190], requires_grad=True), y=tensor([4.7391], grad_fn=<AddBackward0>)\n",
      "loss:  1.088181397790322e-05\n",
      "iteration 50, w1=tensor([2.0179], requires_grad=True), y=tensor([4.7393], grad_fn=<AddBackward0>)\n",
      "loss:  9.624281119613443e-06\n",
      "iteration 51, w1=tensor([2.0168], requires_grad=True), y=tensor([4.7395], grad_fn=<AddBackward0>)\n",
      "loss:  8.510579391440842e-06\n",
      "iteration 52, w1=tensor([2.0158], requires_grad=True), y=tensor([4.7396], grad_fn=<AddBackward0>)\n",
      "loss:  7.525388355134055e-06\n",
      "iteration 53, w1=tensor([2.0148], requires_grad=True), y=tensor([4.7398], grad_fn=<AddBackward0>)\n",
      "loss:  6.65479547024006e-06\n",
      "iteration 54, w1=tensor([2.0139], requires_grad=True), y=tensor([4.7400], grad_fn=<AddBackward0>)\n",
      "loss:  5.881564902665559e-06\n",
      "iteration 55, w1=tensor([2.0131], requires_grad=True), y=tensor([4.7401], grad_fn=<AddBackward0>)\n",
      "loss:  5.197298378334381e-06\n",
      "iteration 56, w1=tensor([2.0123], requires_grad=True), y=tensor([4.7402], grad_fn=<AddBackward0>)\n",
      "loss:  4.592046934703831e-06\n",
      "iteration 57, w1=tensor([2.0116], requires_grad=True), y=tensor([4.7404], grad_fn=<AddBackward0>)\n",
      "loss:  4.056841135025024e-06\n",
      "iteration 58, w1=tensor([2.0109], requires_grad=True), y=tensor([4.7405], grad_fn=<AddBackward0>)\n",
      "loss:  3.585419335649931e-06\n",
      "iteration 59, w1=tensor([2.0102], requires_grad=True), y=tensor([4.7406], grad_fn=<AddBackward0>)\n",
      "loss:  3.166820533806458e-06\n",
      "iteration 60, w1=tensor([2.0096], requires_grad=True), y=tensor([4.7407], grad_fn=<AddBackward0>)\n",
      "loss:  2.796479975586408e-06\n",
      "iteration 61, w1=tensor([2.0090], requires_grad=True), y=tensor([4.7408], grad_fn=<AddBackward0>)\n",
      "loss:  2.470100298523903e-06\n",
      "iteration 62, w1=tensor([2.0085], requires_grad=True), y=tensor([4.7409], grad_fn=<AddBackward0>)\n",
      "loss:  2.180833917009295e-06\n",
      "iteration 63, w1=tensor([2.0080], requires_grad=True), y=tensor([4.7410], grad_fn=<AddBackward0>)\n",
      "loss:  1.9254230210208334e-06\n",
      "iteration 64, w1=tensor([2.0075], requires_grad=True), y=tensor([4.7411], grad_fn=<AddBackward0>)\n",
      "loss:  1.6995627447613515e-06\n",
      "iteration 65, w1=tensor([2.0070], requires_grad=True), y=tensor([4.7412], grad_fn=<AddBackward0>)\n",
      "loss:  1.5006119156169007e-06\n",
      "iteration 66, w1=tensor([2.0066], requires_grad=True), y=tensor([4.7412], grad_fn=<AddBackward0>)\n",
      "loss:  1.3238989140518242e-06\n",
      "iteration 67, w1=tensor([2.0062], requires_grad=True), y=tensor([4.7413], grad_fn=<AddBackward0>)\n",
      "loss:  1.1685390290949726e-06\n",
      "iteration 68, w1=tensor([2.0058], requires_grad=True), y=tensor([4.7414], grad_fn=<AddBackward0>)\n",
      "loss:  1.0315716281183995e-06\n",
      "iteration 69, w1=tensor([2.0055], requires_grad=True), y=tensor([4.7414], grad_fn=<AddBackward0>)\n",
      "loss:  9.104044238483766e-07\n",
      "iteration 70, w1=tensor([2.0051], requires_grad=True), y=tensor([4.7415], grad_fn=<AddBackward0>)\n",
      "loss:  8.036295184865594e-07\n",
      "iteration 71, w1=tensor([2.0048], requires_grad=True), y=tensor([4.7415], grad_fn=<AddBackward0>)\n",
      "loss:  7.091230145306326e-07\n",
      "iteration 72, w1=tensor([2.0045], requires_grad=True), y=tensor([4.7416], grad_fn=<AddBackward0>)\n",
      "loss:  6.257962468225742e-07\n",
      "iteration 73, w1=tensor([2.0043], requires_grad=True), y=tensor([4.7416], grad_fn=<AddBackward0>)\n",
      "loss:  5.519186743185855e-07\n",
      "iteration 74, w1=tensor([2.0040], requires_grad=True), y=tensor([4.7417], grad_fn=<AddBackward0>)\n",
      "loss:  4.873290890827775e-07\n",
      "iteration 75, w1=tensor([2.0038], requires_grad=True), y=tensor([4.7417], grad_fn=<AddBackward0>)\n",
      "loss:  4.298783551348606e-07\n",
      "iteration 76, w1=tensor([2.0035], requires_grad=True), y=tensor([4.7418], grad_fn=<AddBackward0>)\n",
      "loss:  3.7895938476140145e-07\n",
      "iteration 77, w1=tensor([2.0033], requires_grad=True), y=tensor([4.7418], grad_fn=<AddBackward0>)\n",
      "loss:  3.345505774632329e-07\n",
      "iteration 78, w1=tensor([2.0031], requires_grad=True), y=tensor([4.7418], grad_fn=<AddBackward0>)\n",
      "loss:  2.9497664399968926e-07\n",
      "iteration 79, w1=tensor([2.0029], requires_grad=True), y=tensor([4.7419], grad_fn=<AddBackward0>)\n",
      "loss:  2.603201210149564e-07\n",
      "iteration 80, w1=tensor([2.0027], requires_grad=True), y=tensor([4.7419], grad_fn=<AddBackward0>)\n",
      "loss:  2.2965309653955046e-07\n",
      "iteration 81, w1=tensor([2.0026], requires_grad=True), y=tensor([4.7419], grad_fn=<AddBackward0>)\n",
      "loss:  2.0262086763978004e-07\n",
      "iteration 82, w1=tensor([2.0024], requires_grad=True), y=tensor([4.7420], grad_fn=<AddBackward0>)\n",
      "loss:  1.784874257282354e-07\n",
      "iteration 83, w1=tensor([2.0023], requires_grad=True), y=tensor([4.7420], grad_fn=<AddBackward0>)\n",
      "loss:  1.5739351511001587e-07\n",
      "iteration 84, w1=tensor([2.0021], requires_grad=True), y=tensor([4.7420], grad_fn=<AddBackward0>)\n",
      "loss:  1.3904445950174704e-07\n",
      "iteration 85, w1=tensor([2.0020], requires_grad=True), y=tensor([4.7420], grad_fn=<AddBackward0>)\n",
      "loss:  1.2249893188709393e-07\n",
      "iteration 86, w1=tensor([2.0019], requires_grad=True), y=tensor([4.7421], grad_fn=<AddBackward0>)\n",
      "loss:  1.0793905858008657e-07\n",
      "iteration 87, w1=tensor([2.0018], requires_grad=True), y=tensor([4.7421], grad_fn=<AddBackward0>)\n",
      "loss:  9.518066690361593e-08\n",
      "iteration 88, w1=tensor([2.0017], requires_grad=True), y=tensor([4.7421], grad_fn=<AddBackward0>)\n",
      "loss:  8.405186235904694e-08\n",
      "iteration 89, w1=tensor([2.0016], requires_grad=True), y=tensor([4.7421], grad_fn=<AddBackward0>)\n",
      "loss:  7.413314051518682e-08\n",
      "iteration 90, w1=tensor([2.0015], requires_grad=True), y=tensor([4.7421], grad_fn=<AddBackward0>)\n",
      "loss:  6.53235474601388e-08\n",
      "iteration 91, w1=tensor([2.0014], requires_grad=True), y=tensor([4.7421], grad_fn=<AddBackward0>)\n",
      "loss:  5.75275862502167e-08\n",
      "iteration 92, w1=tensor([2.0013], requires_grad=True), y=tensor([4.7422], grad_fn=<AddBackward0>)\n",
      "loss:  5.0870085033238865e-08\n",
      "iteration 93, w1=tensor([2.0012], requires_grad=True), y=tensor([4.7422], grad_fn=<AddBackward0>)\n",
      "loss:  4.4823536882176995e-08\n",
      "iteration 94, w1=tensor([2.0011], requires_grad=True), y=tensor([4.7422], grad_fn=<AddBackward0>)\n",
      "loss:  3.953778104914818e-08\n",
      "iteration 95, w1=tensor([2.0011], requires_grad=True), y=tensor([4.7422], grad_fn=<AddBackward0>)\n",
      "loss:  3.493914846330881e-08\n",
      "iteration 96, w1=tensor([2.0010], requires_grad=True), y=tensor([4.7422], grad_fn=<AddBackward0>)\n",
      "loss:  3.079185262322426e-08\n",
      "iteration 97, w1=tensor([2.0009], requires_grad=True), y=tensor([4.7422], grad_fn=<AddBackward0>)\n",
      "loss:  2.7063151719630696e-08\n",
      "iteration 98, w1=tensor([2.0009], requires_grad=True), y=tensor([4.7422], grad_fn=<AddBackward0>)\n",
      "loss:  2.386877895332873e-08\n",
      "iteration 99, w1=tensor([2.0008], requires_grad=True), y=tensor([4.7422], grad_fn=<AddBackward0>)\n",
      "loss:  2.1012965589761734e-08\n",
      "iteration 100, w1=tensor([2.0008], requires_grad=True), y=tensor([4.7422], grad_fn=<AddBackward0>)\n",
      "loss:  1.859825715655461e-08\n",
      "iteration 101, w1=tensor([2.0007], requires_grad=True), y=tensor([4.7423], grad_fn=<AddBackward0>)\n",
      "loss:  1.63308868650347e-08\n",
      "iteration 102, w1=tensor([2.0007], requires_grad=True), y=tensor([4.7423], grad_fn=<AddBackward0>)\n",
      "loss:  1.4439137885347009e-08\n",
      "iteration 103, w1=tensor([2.0006], requires_grad=True), y=tensor([4.7423], grad_fn=<AddBackward0>)\n",
      "loss:  1.2771351975970902e-08\n",
      "iteration 104, w1=tensor([2.0006], requires_grad=True), y=tensor([4.7423], grad_fn=<AddBackward0>)\n",
      "loss:  1.1205884220544249e-08\n",
      "iteration 105, w1=tensor([2.0006], requires_grad=True), y=tensor([4.7423], grad_fn=<AddBackward0>)\n",
      "loss:  9.93190951703582e-09\n",
      "iteration 106, w1=tensor([2.0005], requires_grad=True), y=tensor([4.7423], grad_fn=<AddBackward0>)\n",
      "loss:  8.734787115827203e-09\n",
      "iteration 107, w1=tensor([2.0005], requires_grad=True), y=tensor([4.7423], grad_fn=<AddBackward0>)\n",
      "loss:  7.697963155806065e-09\n",
      "iteration 108, w1=tensor([2.0005], requires_grad=True), y=tensor([4.7423], grad_fn=<AddBackward0>)\n",
      "loss:  6.805066732340492e-09\n",
      "iteration 109, w1=tensor([2.0004], requires_grad=True), y=tensor([4.7423], grad_fn=<AddBackward0>)\n",
      "loss:  5.967194738332182e-09\n",
      "iteration 110, w1=tensor([2.0004], requires_grad=True), y=tensor([4.7423], grad_fn=<AddBackward0>)\n",
      "loss:  5.2532413974404335e-09\n",
      "iteration 111, w1=tensor([2.0004], requires_grad=True), y=tensor([4.7423], grad_fn=<AddBackward0>)\n",
      "loss:  4.649564289138652e-09\n",
      "iteration 112, w1=tensor([2.0004], requires_grad=True), y=tensor([4.7423], grad_fn=<AddBackward0>)\n",
      "loss:  4.082721716258675e-09\n",
      "iteration 113, w1=tensor([2.0003], requires_grad=True), y=tensor([4.7423], grad_fn=<AddBackward0>)\n",
      "loss:  3.609784471336752e-09\n",
      "iteration 114, w1=tensor([2.0003], requires_grad=True), y=tensor([4.7423], grad_fn=<AddBackward0>)\n",
      "loss:  3.165951056871563e-09\n",
      "iteration 115, w1=tensor([2.0003], requires_grad=True), y=tensor([4.7423], grad_fn=<AddBackward0>)\n",
      "loss:  2.801471055136062e-09\n",
      "iteration 116, w1=tensor([2.0003], requires_grad=True), y=tensor([4.7423], grad_fn=<AddBackward0>)\n",
      "loss:  2.459273673593998e-09\n",
      "iteration 117, w1=tensor([2.0003], requires_grad=True), y=tensor([4.7423], grad_fn=<AddBackward0>)\n",
      "loss:  2.1836967789568007e-09\n",
      "iteration 118, w1=tensor([2.0003], requires_grad=True), y=tensor([4.7423], grad_fn=<AddBackward0>)\n",
      "loss:  1.924490788951516e-09\n",
      "iteration 119, w1=tensor([2.0002], requires_grad=True), y=tensor([4.7423], grad_fn=<AddBackward0>)\n",
      "loss:  1.7209913494298235e-09\n",
      "iteration 120, w1=tensor([2.0002], requires_grad=True), y=tensor([4.7423], grad_fn=<AddBackward0>)\n",
      "loss:  1.4917986845830455e-09\n",
      "iteration 121, w1=tensor([2.0002], requires_grad=True), y=tensor([4.7423], grad_fn=<AddBackward0>)\n",
      "loss:  1.3133103493601084e-09\n",
      "iteration 122, w1=tensor([2.0002], requires_grad=True), y=tensor([4.7423], grad_fn=<AddBackward0>)\n",
      "loss:  1.178705133497715e-09\n",
      "iteration 123, w1=tensor([2.0002], requires_grad=True), y=tensor([4.7423], grad_fn=<AddBackward0>)\n",
      "loss:  1.0206804290646687e-09\n",
      "iteration 124, w1=tensor([2.0002], requires_grad=True), y=tensor([4.7424], grad_fn=<AddBackward0>)\n",
      "loss:  9.02446117834188e-10\n",
      "iteration 125, w1=tensor([2.0002], requires_grad=True), y=tensor([4.7424], grad_fn=<AddBackward0>)\n",
      "loss:  7.914877642178908e-10\n",
      "iteration 126, w1=tensor([2.0002], requires_grad=True), y=tensor([4.7424], grad_fn=<AddBackward0>)\n",
      "loss:  7.130438461899757e-10\n",
      "iteration 127, w1=tensor([2.0001], requires_grad=True), y=tensor([4.7424], grad_fn=<AddBackward0>)\n",
      "loss:  6.148184183984995e-10\n",
      "iteration 128, w1=tensor([2.0001], requires_grad=True), y=tensor([4.7424], grad_fn=<AddBackward0>)\n",
      "loss:  5.459241947392002e-10\n",
      "iteration 129, w1=tensor([2.0001], requires_grad=True), y=tensor([4.7424], grad_fn=<AddBackward0>)\n",
      "loss:  4.81122697237879e-10\n",
      "iteration 130, w1=tensor([2.0001], requires_grad=True), y=tensor([4.7424], grad_fn=<AddBackward0>)\n",
      "loss:  4.204139258945361e-10\n",
      "iteration 131, w1=tensor([2.0001], requires_grad=True), y=tensor([4.7424], grad_fn=<AddBackward0>)\n",
      "loss:  3.822151484200731e-10\n",
      "iteration 132, w1=tensor([2.0001], requires_grad=True), y=tensor([4.7424], grad_fn=<AddBackward0>)\n",
      "loss:  3.283275873400271e-10\n",
      "iteration 133, w1=tensor([2.0001], requires_grad=True), y=tensor([4.7424], grad_fn=<AddBackward0>)\n",
      "loss:  2.9467628337442875e-10\n",
      "iteration 134, w1=tensor([2.0001], requires_grad=True), y=tensor([4.7424], grad_fn=<AddBackward0>)\n",
      "loss:  2.6284396881237626e-10\n",
      "iteration 135, w1=tensor([2.0001], requires_grad=True), y=tensor([4.7424], grad_fn=<AddBackward0>)\n",
      "loss:  2.3283064365386963e-10\n",
      "iteration 136, w1=tensor([2.0001], requires_grad=True), y=tensor([4.7424], grad_fn=<AddBackward0>)\n",
      "loss:  2.0463630789890885e-10\n",
      "iteration 137, w1=tensor([2.0001], requires_grad=True), y=tensor([4.7424], grad_fn=<AddBackward0>)\n",
      "loss:  1.7826096154749393e-10\n",
      "iteration 138, w1=tensor([2.0001], requires_grad=True), y=tensor([4.7424], grad_fn=<AddBackward0>)\n",
      "loss:  1.5370460459962487e-10\n",
      "iteration 139, w1=tensor([2.0001], requires_grad=True), y=tensor([4.7424], grad_fn=<AddBackward0>)\n",
      "loss:  1.4210854715202004e-10\n",
      "iteration 140, w1=tensor([2.0001], requires_grad=True), y=tensor([4.7424], grad_fn=<AddBackward0>)\n",
      "loss:  1.2028067430946976e-10\n",
      "iteration 141, w1=tensor([2.0001], requires_grad=True), y=tensor([4.7424], grad_fn=<AddBackward0>)\n",
      "loss:  1.1004885891452432e-10\n",
      "iteration 142, w1=tensor([2.0001], requires_grad=True), y=tensor([4.7424], grad_fn=<AddBackward0>)\n",
      "loss:  9.094947017729282e-11\n",
      "iteration 143, w1=tensor([2.0001], requires_grad=True), y=tensor([4.7424], grad_fn=<AddBackward0>)\n",
      "loss:  8.208189683500677e-11\n",
      "iteration 144, w1=tensor([2.0000], requires_grad=True), y=tensor([4.7424], grad_fn=<AddBackward0>)\n",
      "loss:  7.366907084360719e-11\n",
      "iteration 145, w1=tensor([2.0000], requires_grad=True), y=tensor([4.7424], grad_fn=<AddBackward0>)\n",
      "loss:  6.571099220309407e-11\n",
      "iteration 146, w1=tensor([2.0000], requires_grad=True), y=tensor([4.7424], grad_fn=<AddBackward0>)\n",
      "loss:  5.820766091346741e-11\n",
      "iteration 147, w1=tensor([2.0000], requires_grad=True), y=tensor([4.7424], grad_fn=<AddBackward0>)\n",
      "loss:  5.1159076974727213e-11\n",
      "iteration 148, w1=tensor([2.0000], requires_grad=True), y=tensor([4.7424], grad_fn=<AddBackward0>)\n",
      "loss:  4.4565240386873484e-11\n",
      "iteration 149, w1=tensor([2.0000], requires_grad=True), y=tensor([4.7424], grad_fn=<AddBackward0>)\n",
      "loss:  3.842615114990622e-11\n",
      "iteration 150, w1=tensor([2.0000], requires_grad=True), y=tensor([4.7424], grad_fn=<AddBackward0>)\n",
      "loss:  3.2741809263825417e-11\n",
      "iteration 151, w1=tensor([2.0000], requires_grad=True), y=tensor([4.7424], grad_fn=<AddBackward0>)\n",
      "loss:  3.2741809263825417e-11\n",
      "iteration 152, w1=tensor([2.0000], requires_grad=True), y=tensor([4.7424], grad_fn=<AddBackward0>)\n",
      "loss:  2.751221472863108e-11\n",
      "iteration 153, w1=tensor([2.0000], requires_grad=True), y=tensor([4.7424], grad_fn=<AddBackward0>)\n",
      "loss:  2.2737367544323206e-11\n",
      "iteration 154, w1=tensor([2.0000], requires_grad=True), y=tensor([4.7424], grad_fn=<AddBackward0>)\n",
      "loss:  2.2737367544323206e-11\n",
      "iteration 155, w1=tensor([2.0000], requires_grad=True), y=tensor([4.7424], grad_fn=<AddBackward0>)\n",
      "loss:  1.8417267710901797e-11\n",
      "iteration 156, w1=tensor([2.0000], requires_grad=True), y=tensor([4.7424], grad_fn=<AddBackward0>)\n",
      "loss:  1.4551915228366852e-11\n",
      "iteration 157, w1=tensor([2.0000], requires_grad=True), y=tensor([4.7424], grad_fn=<AddBackward0>)\n",
      "loss:  1.4551915228366852e-11\n",
      "iteration 158, w1=tensor([2.0000], requires_grad=True), y=tensor([4.7424], grad_fn=<AddBackward0>)\n",
      "loss:  1.1141310096718371e-11\n",
      "iteration 159, w1=tensor([2.0000], requires_grad=True), y=tensor([4.7424], grad_fn=<AddBackward0>)\n",
      "loss:  1.1141310096718371e-11\n",
      "iteration 160, w1=tensor([2.0000], requires_grad=True), y=tensor([4.7424], grad_fn=<AddBackward0>)\n",
      "loss:  1.1141310096718371e-11\n",
      "iteration 161, w1=tensor([2.0000], requires_grad=True), y=tensor([4.7424], grad_fn=<AddBackward0>)\n",
      "loss:  8.185452315956354e-12\n",
      "iteration 162, w1=tensor([2.0000], requires_grad=True), y=tensor([4.7424], grad_fn=<AddBackward0>)\n",
      "loss:  8.185452315956354e-12\n",
      "iteration 163, w1=tensor([2.0000], requires_grad=True), y=tensor([4.7424], grad_fn=<AddBackward0>)\n",
      "loss:  5.6843418860808015e-12\n",
      "iteration 164, w1=tensor([2.0000], requires_grad=True), y=tensor([4.7424], grad_fn=<AddBackward0>)\n",
      "loss:  5.6843418860808015e-12\n",
      "iteration 165, w1=tensor([2.0000], requires_grad=True), y=tensor([4.7424], grad_fn=<AddBackward0>)\n",
      "loss:  5.6843418860808015e-12\n",
      "iteration 166, w1=tensor([2.0000], requires_grad=True), y=tensor([4.7424], grad_fn=<AddBackward0>)\n",
      "loss:  5.6843418860808015e-12\n",
      "iteration 167, w1=tensor([2.0000], requires_grad=True), y=tensor([4.7424], grad_fn=<AddBackward0>)\n",
      "loss:  3.637978807091713e-12\n",
      "iteration 168, w1=tensor([2.0000], requires_grad=True), y=tensor([4.7424], grad_fn=<AddBackward0>)\n",
      "loss:  3.637978807091713e-12\n",
      "iteration 169, w1=tensor([2.0000], requires_grad=True), y=tensor([4.7424], grad_fn=<AddBackward0>)\n",
      "loss:  3.637978807091713e-12\n",
      "iteration 170, w1=tensor([2.0000], requires_grad=True), y=tensor([4.7424], grad_fn=<AddBackward0>)\n",
      "loss:  3.637978807091713e-12\n",
      "iteration 171, w1=tensor([2.0000], requires_grad=True), y=tensor([4.7424], grad_fn=<AddBackward0>)\n",
      "loss:  2.0463630789890885e-12\n",
      "iteration 172, w1=tensor([2.0000], requires_grad=True), y=tensor([4.7424], grad_fn=<AddBackward0>)\n",
      "loss:  2.0463630789890885e-12\n",
      "iteration 173, w1=tensor([2.0000], requires_grad=True), y=tensor([4.7424], grad_fn=<AddBackward0>)\n",
      "loss:  2.0463630789890885e-12\n",
      "iteration 174, w1=tensor([2.0000], requires_grad=True), y=tensor([4.7424], grad_fn=<AddBackward0>)\n",
      "loss:  2.0463630789890885e-12\n",
      "iteration 175, w1=tensor([2.0000], requires_grad=True), y=tensor([4.7424], grad_fn=<AddBackward0>)\n",
      "loss:  2.0463630789890885e-12\n",
      "iteration 176, w1=tensor([2.0000], requires_grad=True), y=tensor([4.7424], grad_fn=<AddBackward0>)\n",
      "loss:  9.094947017729282e-13\n",
      "iteration 177, w1=tensor([2.0000], requires_grad=True), y=tensor([4.7424], grad_fn=<AddBackward0>)\n",
      "loss:  9.094947017729282e-13\n",
      "iteration 178, w1=tensor([2.0000], requires_grad=True), y=tensor([4.7424], grad_fn=<AddBackward0>)\n",
      "loss:  9.094947017729282e-13\n",
      "iteration 179, w1=tensor([2.0000], requires_grad=True), y=tensor([4.7424], grad_fn=<AddBackward0>)\n",
      "loss:  9.094947017729282e-13\n",
      "iteration 180, w1=tensor([2.0000], requires_grad=True), y=tensor([4.7424], grad_fn=<AddBackward0>)\n",
      "loss:  9.094947017729282e-13\n",
      "iteration 181, w1=tensor([2.0000], requires_grad=True), y=tensor([4.7424], grad_fn=<AddBackward0>)\n",
      "loss:  9.094947017729282e-13\n",
      "iteration 182, w1=tensor([2.0000], requires_grad=True), y=tensor([4.7424], grad_fn=<AddBackward0>)\n",
      "loss:  9.094947017729282e-13\n",
      "iteration 183, w1=tensor([2.0000], requires_grad=True), y=tensor([4.7424], grad_fn=<AddBackward0>)\n",
      "loss:  9.094947017729282e-13\n",
      "iteration 184, w1=tensor([2.0000], requires_grad=True), y=tensor([4.7424], grad_fn=<AddBackward0>)\n",
      "loss:  9.094947017729282e-13\n",
      "iteration 185, w1=tensor([2.0000], requires_grad=True), y=tensor([4.7424], grad_fn=<AddBackward0>)\n",
      "loss:  9.094947017729282e-13\n",
      "iteration 186, w1=tensor([2.0000], requires_grad=True), y=tensor([4.7424], grad_fn=<AddBackward0>)\n",
      "loss:  9.094947017729282e-13\n",
      "iteration 187, w1=tensor([2.0000], requires_grad=True), y=tensor([4.7424], grad_fn=<AddBackward0>)\n",
      "loss:  9.094947017729282e-13\n",
      "iteration 188, w1=tensor([2.0000], requires_grad=True), y=tensor([4.7424], grad_fn=<AddBackward0>)\n",
      "loss:  2.2737367544323206e-13\n",
      "iteration 189, w1=tensor([2.0000], requires_grad=True), y=tensor([4.7424], grad_fn=<AddBackward0>)\n",
      "loss:  2.2737367544323206e-13\n",
      "iteration 190, w1=tensor([2.0000], requires_grad=True), y=tensor([4.7424], grad_fn=<AddBackward0>)\n",
      "loss:  2.2737367544323206e-13\n",
      "iteration 191, w1=tensor([2.0000], requires_grad=True), y=tensor([4.7424], grad_fn=<AddBackward0>)\n",
      "loss:  2.2737367544323206e-13\n",
      "iteration 192, w1=tensor([2.0000], requires_grad=True), y=tensor([4.7424], grad_fn=<AddBackward0>)\n",
      "loss:  2.2737367544323206e-13\n",
      "iteration 193, w1=tensor([2.0000], requires_grad=True), y=tensor([4.7424], grad_fn=<AddBackward0>)\n",
      "loss:  2.2737367544323206e-13\n",
      "iteration 194, w1=tensor([2.0000], requires_grad=True), y=tensor([4.7424], grad_fn=<AddBackward0>)\n",
      "loss:  2.2737367544323206e-13\n",
      "iteration 195, w1=tensor([2.0000], requires_grad=True), y=tensor([4.7424], grad_fn=<AddBackward0>)\n",
      "loss:  2.2737367544323206e-13\n",
      "iteration 196, w1=tensor([2.0000], requires_grad=True), y=tensor([4.7424], grad_fn=<AddBackward0>)\n",
      "loss:  2.2737367544323206e-13\n",
      "iteration 197, w1=tensor([2.0000], requires_grad=True), y=tensor([4.7424], grad_fn=<AddBackward0>)\n",
      "loss:  2.2737367544323206e-13\n",
      "iteration 198, w1=tensor([2.0000], requires_grad=True), y=tensor([4.7424], grad_fn=<AddBackward0>)\n",
      "loss:  2.2737367544323206e-13\n",
      "iteration 199, w1=tensor([2.], requires_grad=True), y=tensor([4.7424], grad_fn=<AddBackward0>)\n"
     ]
    }
   ],
   "source": [
    "y_pred = []\n",
    "EPOHS = 200\n",
    "for i in range(EPOHS):\n",
    "    optimizer.zero_grad()\n",
    "    pred = func(w1, x[0]) # если передавать весь тензор x, а не первый результат \n",
    "                          # появляется ошибка в  loss.backward():\n",
    "                          # \"element 0 of tensors does not require grad and does not have a grad_fn\"\n",
    "    loss = criterion(pred, y[0])\n",
    "    print('loss: ', loss.item())\n",
    "\n",
    "    loss.backward()\n",
    "    optimizer.step()\n",
    "    \n",
    "    print(f'iteration {i}, {w1=}, y={func(w1, x[0])}')\n",
    "    y_pred.append(func(w1, x[0]).detach().numpy())"
   ]
  },
  {
   "cell_type": "code",
   "execution_count": 8,
   "metadata": {},
   "outputs": [
    {
     "data": {
      "text/plain": [
       "<matplotlib.legend.Legend at 0x1b5db07e700>"
      ]
     },
     "execution_count": 8,
     "metadata": {},
     "output_type": "execute_result"
    },
    {
     "data": {
      "image/png": "[encoded data removed]",
      "text/plain": [
       "<Figure size 432x288 with 1 Axes>"
      ]
     },
     "metadata": {
      "needs_background": "light"
     },
     "output_type": "display_data"
    }
   ],
   "source": [
    "import matplotlib.pyplot as plt\n",
    "plt.plot(y_pred, label='predictions')\n",
    "plt.axhline(y=y[0], color='r', linestyle='-', label='y real')\n",
    "plt.xlabel('iteration', fontsize=12, color='blue')\n",
    "plt.ylabel('y_pred', fontsize=12, color='blue')\n",
    "plt.title('оптимизация функции')\n",
    "plt.legend()\n"
   ]
  },
  {
   "cell_type": "code",
   "execution_count": null,
   "metadata": {},
   "outputs": [],
   "source": []
  }
 ],
 "metadata": {
  "kernelspec": {
   "display_name": "Python 3 (ipykernel)",
   "language": "python",
   "name": "python3"
  },
  "language_info": {
   "codemirror_mode": {
    "name": "ipython",
    "version": 3
   },
   "file_extension": ".py",
   "mimetype": "text/x-python",
   "name": "python",
   "nbconvert_exporter": "python",
   "pygments_lexer": "ipython3",
   "version": "3.9.7"
  }
 },
 "nbformat": 4,
 "nbformat_minor": 2
}
