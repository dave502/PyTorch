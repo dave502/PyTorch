{
 "cells": [
  {
   "cell_type": "code",
   "execution_count": 2,
   "metadata": {},
   "outputs": [
    {
     "name": "stdout",
     "output_type": "stream",
     "text": [
      "Requirement already satisfied: torch in c:\\programdata\\anaconda3\\lib\\site-packages (1.11.0)\n",
      "Requirement already satisfied: typing-extensions in c:\\programdata\\anaconda3\\lib\\site-packages (from torch) (3.10.0.2)\n"
     ]
    }
   ],
   "source": [
    "!pip install torch"
   ]
  },
  {
   "cell_type": "code",
   "execution_count": 1,
   "metadata": {},
   "outputs": [],
   "source": [
    "import torch\n",
    "from torch.autograd import Variable\n",
    "from torch import nn \n",
    "from torch import optim"
   ]
  },
  {
   "cell_type": "code",
   "execution_count": 38,
   "metadata": {},
   "outputs": [],
   "source": [
    "# Создайте случайный FloatTensor размера 3x4x5\n",
    "tensor = torch.FloatTensor(torch.rand(3,4,5))"
   ]
  },
  {
   "cell_type": "code",
   "execution_count": 39,
   "metadata": {},
   "outputs": [
    {
     "data": {
      "text/plain": [
       "torch.Size([3, 4, 5])"
      ]
     },
     "execution_count": 39,
     "metadata": {},
     "output_type": "execute_result"
    }
   ],
   "source": [
    "# Выведите его форму (shape)\n",
    "tensor.size()"
   ]
  },
  {
   "cell_type": "code",
   "execution_count": 40,
   "metadata": {},
   "outputs": [
    {
     "data": {
      "text/plain": [
       "tensor([[0.3814, 0.5191, 0.9181, 0.3312, 0.5767, 0.4381, 0.8117, 0.9652, 0.9546,\n",
       "         0.6559],\n",
       "        [0.3887, 0.6700, 0.1186, 0.7295, 0.9962, 0.7074, 0.6006, 0.4262, 0.0868,\n",
       "         0.8623],\n",
       "        [0.0958, 0.0831, 0.2047, 0.8418, 0.3804, 0.4521, 0.5120, 0.8677, 0.3540,\n",
       "         0.9467],\n",
       "        [0.0221, 0.1906, 0.5844, 0.0217, 0.6655, 0.0836, 0.8308, 0.7053, 0.8447,\n",
       "         0.9559],\n",
       "        [0.1824, 0.9476, 0.9918, 0.3257, 0.5760, 0.9610, 0.7269, 0.1508, 0.0216,\n",
       "         0.6894],\n",
       "        [0.1121, 0.7228, 0.5285, 0.1532, 0.2445, 0.8619, 0.4431, 0.3858, 0.5500,\n",
       "         0.0882]])"
      ]
     },
     "execution_count": 40,
     "metadata": {},
     "output_type": "execute_result"
    }
   ],
   "source": [
    "# Приведите его к форме 6 X 10\n",
    "tensor = tensor.view(6,10)\n",
    "tensor"
   ]
  },
  {
   "cell_type": "code",
   "execution_count": 45,
   "metadata": {
    "scrolled": false
   },
   "outputs": [
    {
     "data": {
      "text/plain": [
       "tensor([[0.3814, 2.0763, 1.8361, 0.6625, 0.5767, 0.4381, 3.2468, 1.9305, 1.9091,\n",
       "         0.6559],\n",
       "        [0.3887, 2.6798, 0.2372, 1.4591, 0.9962, 0.7074, 2.4025, 0.8524, 0.1736,\n",
       "         0.8623],\n",
       "        [0.0958, 0.3325, 0.4093, 1.6835, 0.3804, 0.4521, 2.0479, 1.7354, 0.7080,\n",
       "         0.9467],\n",
       "        [0.0221, 0.7625, 1.1687, 0.0435, 0.6655, 0.0836, 3.3233, 1.4105, 1.6894,\n",
       "         0.9559],\n",
       "        [0.1824, 3.7904, 1.9835, 0.6513, 0.5760, 0.9610, 2.9077, 0.3016, 0.0431,\n",
       "         0.6894],\n",
       "        [0.1121, 2.8911, 1.0570, 0.3063, 0.2445, 0.8619, 1.7723, 0.7716, 1.1000,\n",
       "         0.0882]])"
      ]
     },
     "execution_count": 45,
     "metadata": {},
     "output_type": "execute_result"
    }
   ],
   "source": [
    "# Умножьте его на вектор [1, 4, 2, 2, 1] поэлементно\n",
    "# тут возможно два варианта поэлементного умножения: перебирать элементы множимого и умножать их\n",
    "# на вектор или такой (результат будет, конечно, разным)\n",
    "tensor = (tensor.view(-1, 5) * torch.FloatTensor([1, 4, 2, 2, 1])).view(6,10)\n",
    "tensor"
   ]
  },
  {
   "cell_type": "code",
   "execution_count": 48,
   "metadata": {},
   "outputs": [
    {
     "data": {
      "text/plain": [
       "tensor([[27.1345, 18.3414, 14.9829, 21.5519, 23.3236, 18.1096],\n",
       "        [18.3414, 18.2823, 11.5188, 13.4184, 20.7475, 14.5247],\n",
       "        [14.9829, 11.5188, 12.0736, 12.4527, 11.0009,  8.2339],\n",
       "        [21.5519, 13.4184, 12.4527, 19.2010, 16.5246, 12.6111],\n",
       "        [23.3236, 20.7475, 11.0009, 16.5246, 29.0372, 19.7385],\n",
       "        [18.1096, 14.5247,  8.2339, 12.6111, 19.7385, 15.3390]])"
      ]
     },
     "execution_count": 48,
     "metadata": {},
     "output_type": "execute_result"
    }
   ],
   "source": [
    "# Умножьте тензор матрично на себя, чтобы результат был размерности 6x6\n",
    "torch.mm(tensor, tensor.transpose(0, 1))"
   ]
  },
  {
   "cell_type": "code",
   "execution_count": 69,
   "metadata": {},
   "outputs": [
    {
     "name": "stdout",
     "output_type": "stream",
     "text": [
      "x.grad.item()=3.0\n",
      "z.grad.item()=1.0\n",
      "t.grad.item()=-75.0\n"
     ]
    }
   ],
   "source": [
    "# Посчитайте производную функции y = x**3 + z - 75t в точке (1, 0.5, 2)\n",
    "x = torch.tensor(1.0, requires_grad = True)\n",
    "z = torch.tensor(0.5, requires_grad = True)\n",
    "t = torch.tensor(2.0, requires_grad = True)\n",
    "y = x**3 + z - 75*t\n",
    "y.backward()\n",
    "print(f'{x.grad.item()=}\\n{z.grad.item()=}\\n{t.grad.item()=}')"
   ]
  },
  {
   "cell_type": "code",
   "execution_count": 70,
   "metadata": {},
   "outputs": [
    {
     "data": {
      "text/plain": [
       "tensor([[1., 1., 1., 1., 1., 1.],\n",
       "        [1., 1., 1., 1., 1., 1.],\n",
       "        [1., 1., 1., 1., 1., 1.],\n",
       "        [1., 1., 1., 1., 1., 1.],\n",
       "        [1., 1., 1., 1., 1., 1.]])"
      ]
     },
     "execution_count": 70,
     "metadata": {},
     "output_type": "execute_result"
    }
   ],
   "source": [
    "# Создайте единичный тензор размера 5x6\n",
    "ones = torch.ones(5,6)\n",
    "ones"
   ]
  },
  {
   "cell_type": "code",
   "execution_count": 75,
   "metadata": {},
   "outputs": [
    {
     "data": {
      "text/plain": [
       "numpy.ndarray"
      ]
     },
     "execution_count": 75,
     "metadata": {},
     "output_type": "execute_result"
    }
   ],
   "source": [
    "# Переведите его в формат numpy\n",
    "type(ones.numpy())"
   ]
  },
  {
   "cell_type": "code",
   "execution_count": 206,
   "metadata": {},
   "outputs": [],
   "source": [
    "# Давайте теперь пооптимизируем: возьмите функцию y = x**w1 - 2 * x**2 + 5\n",
    "# Посчитайте "
   ]
  },
  {
   "cell_type": "code",
   "execution_count": 14,
   "metadata": {},
   "outputs": [],
   "source": [
    "def func(w, x):\n",
    "    return x**w1 - 2*x**2 + 5"
   ]
  },
  {
   "cell_type": "code",
   "execution_count": 15,
   "metadata": {},
   "outputs": [],
   "source": [
    "w1 = 2 # примем коэффициент w1 равным 2, оптимизатор должен будет прийти к этому значению"
   ]
  },
  {
   "cell_type": "code",
   "execution_count": 31,
   "metadata": {},
   "outputs": [
    {
     "data": {
      "text/plain": [
       "tensor([0.7213, 0.9454, 3.0625, 0.1871, 1.1893], requires_grad=True)"
      ]
     },
     "execution_count": 31,
     "metadata": {},
     "output_type": "execute_result"
    }
   ],
   "source": [
    "x = Variable(torch.square(torch.randn(5)), requires_grad=True)\n",
    "x"
   ]
  },
  {
   "cell_type": "code",
   "execution_count": 32,
   "metadata": {},
   "outputs": [
    {
     "data": {
      "text/plain": [
       "tensor([  4.6463,   4.1500, -10.1358,   5.0755,   3.3919])"
      ]
     },
     "execution_count": 32,
     "metadata": {},
     "output_type": "execute_result"
    }
   ],
   "source": [
    "y = Variable(torch.tensor([func(w1, xi) for xi in x]), requires_grad=False) \n",
    "y # полученные истинные значения"
   ]
  },
  {
   "cell_type": "code",
   "execution_count": 33,
   "metadata": {},
   "outputs": [
    {
     "data": {
      "text/plain": [
       "tensor([0.2874], requires_grad=True)"
      ]
     },
     "execution_count": 33,
     "metadata": {},
     "output_type": "execute_result"
    }
   ],
   "source": [
    "w1 = torch.randn(1) # получаем случайный коэффициент\n",
    "w1.requires_grad_()"
   ]
  },
  {
   "cell_type": "code",
   "execution_count": 34,
   "metadata": {},
   "outputs": [
    {
     "data": {
      "text/plain": [
       "tensor([  4.8699,   4.1966, -12.3789,   5.5477,   3.2224],\n",
       "       grad_fn=<AddBackward0>)"
      ]
     },
     "execution_count": 34,
     "metadata": {},
     "output_type": "execute_result"
    }
   ],
   "source": [
    "# для примера вывод предсказаний со случайным коэффициентом, они конечно будут отличаться от истинных значений\n",
    "func(w1, x)"
   ]
  },
  {
   "cell_type": "code",
   "execution_count": 35,
   "metadata": {},
   "outputs": [],
   "source": [
    "criterion = nn.MSELoss()\n",
    "optimizer = torch.optim.SGD([w1], lr=1)"
   ]
  },
  {
   "cell_type": "code",
   "execution_count": 36,
   "metadata": {},
   "outputs": [
    {
     "name": "stdout",
     "output_type": "stream",
     "text": [
      "loss:  0.050002679228782654\n",
      "iteration 0, w1=tensor([0.4204], requires_grad=True), y=tensor([4.8312], grad_fn=<AddBackward0>)\n",
      "loss:  0.034182824194431305\n",
      "iteration 1, w1=tensor([0.5257], requires_grad=True), y=tensor([4.8017], grad_fn=<AddBackward0>)\n",
      "loss:  0.024149097502231598\n",
      "iteration 2, w1=tensor([0.6113], requires_grad=True), y=tensor([4.7785], grad_fn=<AddBackward0>)\n",
      "loss:  0.017474256455898285\n",
      "iteration 3, w1=tensor([0.6820], requires_grad=True), y=tensor([4.7598], grad_fn=<AddBackward0>)\n",
      "loss:  0.01287664845585823\n",
      "iteration 4, w1=tensor([0.7414], requires_grad=True), y=tensor([4.7444], grad_fn=<AddBackward0>)\n",
      "loss:  0.00962504930794239\n",
      "iteration 5, w1=tensor([0.7917], requires_grad=True), y=tensor([4.7316], grad_fn=<AddBackward0>)\n",
      "loss:  0.007277304772287607\n",
      "iteration 6, w1=tensor([0.8347], requires_grad=True), y=tensor([4.7209], grad_fn=<AddBackward0>)\n",
      "loss:  0.0055538867600262165\n",
      "iteration 7, w1=tensor([0.8718], requires_grad=True), y=tensor([4.7117], grad_fn=<AddBackward0>)\n",
      "loss:  0.004271564539521933\n",
      "iteration 8, w1=tensor([0.9039], requires_grad=True), y=tensor([4.7038], grad_fn=<AddBackward0>)\n",
      "loss:  0.0033066754695028067\n",
      "iteration 9, w1=tensor([0.9319], requires_grad=True), y=tensor([4.6971], grad_fn=<AddBackward0>)\n",
      "loss:  0.002573797944933176\n",
      "iteration 10, w1=tensor([0.9564], requires_grad=True), y=tensor([4.6912], grad_fn=<AddBackward0>)\n",
      "loss:  0.0020127517636865377\n",
      "iteration 11, w1=tensor([0.9778], requires_grad=True), y=tensor([4.6861], grad_fn=<AddBackward0>)\n",
      "loss:  0.0015803357819095254\n",
      "iteration 12, w1=tensor([0.9967], requires_grad=True), y=tensor([4.6816], grad_fn=<AddBackward0>)\n",
      "loss:  0.0012451655929908156\n",
      "iteration 13, w1=tensor([1.0133], requires_grad=True), y=tensor([4.6777], grad_fn=<AddBackward0>)\n",
      "loss:  0.0009839973645284772\n",
      "iteration 14, w1=tensor([1.0280], requires_grad=True), y=tensor([4.6743], grad_fn=<AddBackward0>)\n",
      "loss:  0.0007796732825227082\n",
      "iteration 15, w1=tensor([1.0411], requires_grad=True), y=tensor([4.6712], grad_fn=<AddBackward0>)\n",
      "loss:  0.0006192008731886744\n",
      "iteration 16, w1=tensor([1.0527], requires_grad=True), y=tensor([4.6685], grad_fn=<AddBackward0>)\n",
      "loss:  0.0004927389090880752\n",
      "iteration 17, w1=tensor([1.0629], requires_grad=True), y=tensor([4.6662], grad_fn=<AddBackward0>)\n",
      "loss:  0.00039280304918065667\n",
      "iteration 18, w1=tensor([1.0721], requires_grad=True), y=tensor([4.6640], grad_fn=<AddBackward0>)\n",
      "loss:  0.00031361772562377155\n",
      "iteration 19, w1=tensor([1.0803], requires_grad=True), y=tensor([4.6622], grad_fn=<AddBackward0>)\n",
      "loss:  0.00025074114091694355\n",
      "iteration 20, w1=tensor([1.0875], requires_grad=True), y=tensor([4.6605], grad_fn=<AddBackward0>)\n",
      "loss:  0.00020072615006938577\n",
      "iteration 21, w1=tensor([1.0940], requires_grad=True), y=tensor([4.6590], grad_fn=<AddBackward0>)\n",
      "loss:  0.00016085633251350373\n",
      "iteration 22, w1=tensor([1.0998], requires_grad=True), y=tensor([4.6577], grad_fn=<AddBackward0>)\n",
      "loss:  0.00012903175957035273\n",
      "iteration 23, w1=tensor([1.1050], requires_grad=True), y=tensor([4.6565], grad_fn=<AddBackward0>)\n",
      "loss:  0.00010359349835198373\n",
      "iteration 24, w1=tensor([1.1096], requires_grad=True), y=tensor([4.6555], grad_fn=<AddBackward0>)\n",
      "loss:  8.32350633572787e-05\n",
      "iteration 25, w1=tensor([1.1138], requires_grad=True), y=tensor([4.6545], grad_fn=<AddBackward0>)\n",
      "loss:  6.692251190543175e-05\n",
      "iteration 26, w1=tensor([1.1175], requires_grad=True), y=tensor([4.6537], grad_fn=<AddBackward0>)\n",
      "loss:  5.383993629948236e-05\n",
      "iteration 27, w1=tensor([1.1208], requires_grad=True), y=tensor([4.6529], grad_fn=<AddBackward0>)\n",
      "loss:  4.3332427594577894e-05\n",
      "iteration 28, w1=tensor([1.1238], requires_grad=True), y=tensor([4.6522], grad_fn=<AddBackward0>)\n",
      "loss:  3.4898977901320904e-05\n",
      "iteration 29, w1=tensor([1.1265], requires_grad=True), y=tensor([4.6516], grad_fn=<AddBackward0>)\n",
      "loss:  2.8115755412727594e-05\n",
      "iteration 30, w1=tensor([1.1289], requires_grad=True), y=tensor([4.6511], grad_fn=<AddBackward0>)\n",
      "loss:  2.2660125978291035e-05\n",
      "iteration 31, w1=tensor([1.1310], requires_grad=True), y=tensor([4.6506], grad_fn=<AddBackward0>)\n",
      "loss:  1.8270224245497957e-05\n",
      "iteration 32, w1=tensor([1.1330], requires_grad=True), y=tensor([4.6502], grad_fn=<AddBackward0>)\n",
      "loss:  1.4734382602910046e-05\n",
      "iteration 33, w1=tensor([1.1347], requires_grad=True), y=tensor([4.6498], grad_fn=<AddBackward0>)\n",
      "loss:  1.1888769222423434e-05\n",
      "iteration 34, w1=tensor([1.1362], requires_grad=True), y=tensor([4.6494], grad_fn=<AddBackward0>)\n",
      "loss:  9.591763955540955e-06\n",
      "iteration 35, w1=tensor([1.1376], requires_grad=True), y=tensor([4.6491], grad_fn=<AddBackward0>)\n",
      "loss:  7.741442459519021e-06\n",
      "iteration 36, w1=tensor([1.1389], requires_grad=True), y=tensor([4.6488], grad_fn=<AddBackward0>)\n",
      "loss:  6.250285878195427e-06\n",
      "iteration 37, w1=tensor([1.1400], requires_grad=True), y=tensor([4.6486], grad_fn=<AddBackward0>)\n",
      "loss:  5.04622221342288e-06\n",
      "iteration 38, w1=tensor([1.1410], requires_grad=True), y=tensor([4.6484], grad_fn=<AddBackward0>)\n",
      "loss:  4.076072400494013e-06\n",
      "iteration 39, w1=tensor([1.1419], requires_grad=True), y=tensor([4.6481], grad_fn=<AddBackward0>)\n",
      "loss:  3.291921757409e-06\n",
      "iteration 40, w1=tensor([1.1428], requires_grad=True), y=tensor([4.6480], grad_fn=<AddBackward0>)\n",
      "loss:  2.6594534574542195e-06\n",
      "iteration 41, w1=tensor([1.1435], requires_grad=True), y=tensor([4.6478], grad_fn=<AddBackward0>)\n",
      "loss:  2.1485620891326107e-06\n",
      "iteration 42, w1=tensor([1.1442], requires_grad=True), y=tensor([4.6477], grad_fn=<AddBackward0>)\n",
      "loss:  1.7358090644847834e-06\n",
      "iteration 43, w1=tensor([1.1447], requires_grad=True), y=tensor([4.6475], grad_fn=<AddBackward0>)\n",
      "loss:  1.4018244200997287e-06\n",
      "iteration 44, w1=tensor([1.1453], requires_grad=True), y=tensor([4.6474], grad_fn=<AddBackward0>)\n",
      "loss:  1.1327356332913041e-06\n",
      "iteration 45, w1=tensor([1.1458], requires_grad=True), y=tensor([4.6473], grad_fn=<AddBackward0>)\n",
      "loss:  9.158723059954355e-07\n",
      "iteration 46, w1=tensor([1.1462], requires_grad=True), y=tensor([4.6472], grad_fn=<AddBackward0>)\n",
      "loss:  7.399685273412615e-07\n",
      "iteration 47, w1=tensor([1.1466], requires_grad=True), y=tensor([4.6471], grad_fn=<AddBackward0>)\n",
      "loss:  5.981937647447921e-07\n",
      "iteration 48, w1=tensor([1.1469], requires_grad=True), y=tensor([4.6470], grad_fn=<AddBackward0>)\n",
      "loss:  4.833427738049068e-07\n",
      "iteration 49, w1=tensor([1.1472], requires_grad=True), y=tensor([4.6470], grad_fn=<AddBackward0>)\n"
     ]
    }
   ],
   "source": [
    "y_pred = []\n",
    "EPOHS = 50\n",
    "for i in range(EPOHS):\n",
    "    optimizer.zero_grad()\n",
    "    pred = func(w1, x[0]) # если передавать весь тензор x, а не первый результат \n",
    "                          # появляется ошибка в  loss.backward():\n",
    "                          # \"element 0 of tensors does not require grad and does not have a grad_fn\"\n",
    "    loss = criterion(pred, y[0])\n",
    "    print('loss: ', loss.item())\n",
    "\n",
    "    loss.backward()\n",
    "    optimizer.step()\n",
    "    \n",
    "    print(f'iteration {i}, {w1=}, y={func(w1, x[0])}')\n",
    "    y_pred.append(func(w1, x[0]).detach().numpy())"
   ]
  },
  {
   "cell_type": "code",
   "execution_count": 37,
   "metadata": {},
   "outputs": [
    {
     "data": {
      "text/plain": [
       "<matplotlib.legend.Legend at 0x1b5db31ac10>"
      ]
     },
     "execution_count": 37,
     "metadata": {},
     "output_type": "execute_result"
    },
    {
     "data": {
      "image/png": "[encoded data removed]",
      "text/plain": [
       "<Figure size 432x288 with 1 Axes>"
      ]
     },
     "metadata": {
      "needs_background": "light"
     },
     "output_type": "display_data"
    }
   ],
   "source": [
    "import matplotlib.pyplot as plt\n",
    "plt.plot(y_pred, label='predictions')\n",
    "plt.axhline(y=y[0], color='r', linestyle='-', label='y real')\n",
    "plt.xlabel('iteration', fontsize=12, color='blue')\n",
    "plt.ylabel('y_pred', fontsize=12, color='blue')\n",
    "plt.title('оптимизация функции')\n",
    "plt.legend()\n"
   ]
  },
  {
   "cell_type": "code",
   "execution_count": null,
   "metadata": {},
   "outputs": [],
   "source": []
  }
 ],
 "metadata": {
  "kernelspec": {
   "display_name": "Python 3 (ipykernel)",
   "language": "python",
   "name": "python3"
  },
  "language_info": {
   "codemirror_mode": {
    "name": "ipython",
    "version": 3
   },
   "file_extension": ".py",
   "mimetype": "text/x-python",
   "name": "python",
   "nbconvert_exporter": "python",
   "pygments_lexer": "ipython3",
   "version": "3.9.7"
  }
 },
 "nbformat": 4,
 "nbformat_minor": 2
}
