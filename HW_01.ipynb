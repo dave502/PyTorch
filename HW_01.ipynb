{
 "cells": [
  {
   "cell_type": "code",
   "execution_count": 2,
   "metadata": {},
   "outputs": [
    {
     "name": "stdout",
     "output_type": "stream",
     "text": [
      "Requirement already satisfied: torch in c:\\programdata\\anaconda3\\lib\\site-packages (1.11.0)\n",
      "Requirement already satisfied: typing-extensions in c:\\programdata\\anaconda3\\lib\\site-packages (from torch) (3.10.0.2)\n"
     ]
    }
   ],
   "source": [
    "!pip install torch"
   ]
  },
  {
   "cell_type": "code",
   "execution_count": 3,
   "metadata": {},
   "outputs": [],
   "source": [
    "import torch\n",
    "from torch.autograd import Variable\n",
    "from torch import nn \n",
    "from torch import optim"
   ]
  },
  {
   "cell_type": "code",
   "execution_count": 38,
   "metadata": {},
   "outputs": [],
   "source": [
    "# Создайте случайный FloatTensor размера 3x4x5\n",
    "tensor = torch.FloatTensor(torch.rand(3,4,5))"
   ]
  },
  {
   "cell_type": "code",
   "execution_count": 39,
   "metadata": {},
   "outputs": [
    {
     "data": {
      "text/plain": [
       "torch.Size([3, 4, 5])"
      ]
     },
     "execution_count": 39,
     "metadata": {},
     "output_type": "execute_result"
    }
   ],
   "source": [
    "# Выведите его форму (shape)\n",
    "tensor.size()"
   ]
  },
  {
   "cell_type": "code",
   "execution_count": 40,
   "metadata": {},
   "outputs": [
    {
     "data": {
      "text/plain": [
       "tensor([[0.3814, 0.5191, 0.9181, 0.3312, 0.5767, 0.4381, 0.8117, 0.9652, 0.9546,\n",
       "         0.6559],\n",
       "        [0.3887, 0.6700, 0.1186, 0.7295, 0.9962, 0.7074, 0.6006, 0.4262, 0.0868,\n",
       "         0.8623],\n",
       "        [0.0958, 0.0831, 0.2047, 0.8418, 0.3804, 0.4521, 0.5120, 0.8677, 0.3540,\n",
       "         0.9467],\n",
       "        [0.0221, 0.1906, 0.5844, 0.0217, 0.6655, 0.0836, 0.8308, 0.7053, 0.8447,\n",
       "         0.9559],\n",
       "        [0.1824, 0.9476, 0.9918, 0.3257, 0.5760, 0.9610, 0.7269, 0.1508, 0.0216,\n",
       "         0.6894],\n",
       "        [0.1121, 0.7228, 0.5285, 0.1532, 0.2445, 0.8619, 0.4431, 0.3858, 0.5500,\n",
       "         0.0882]])"
      ]
     },
     "execution_count": 40,
     "metadata": {},
     "output_type": "execute_result"
    }
   ],
   "source": [
    "# Приведите его к форме 6 X 10\n",
    "tensor = tensor.view(6,10)\n",
    "tensor"
   ]
  },
  {
   "cell_type": "code",
   "execution_count": 45,
   "metadata": {
    "scrolled": false
   },
   "outputs": [
    {
     "data": {
      "text/plain": [
       "tensor([[0.3814, 2.0763, 1.8361, 0.6625, 0.5767, 0.4381, 3.2468, 1.9305, 1.9091,\n",
       "         0.6559],\n",
       "        [0.3887, 2.6798, 0.2372, 1.4591, 0.9962, 0.7074, 2.4025, 0.8524, 0.1736,\n",
       "         0.8623],\n",
       "        [0.0958, 0.3325, 0.4093, 1.6835, 0.3804, 0.4521, 2.0479, 1.7354, 0.7080,\n",
       "         0.9467],\n",
       "        [0.0221, 0.7625, 1.1687, 0.0435, 0.6655, 0.0836, 3.3233, 1.4105, 1.6894,\n",
       "         0.9559],\n",
       "        [0.1824, 3.7904, 1.9835, 0.6513, 0.5760, 0.9610, 2.9077, 0.3016, 0.0431,\n",
       "         0.6894],\n",
       "        [0.1121, 2.8911, 1.0570, 0.3063, 0.2445, 0.8619, 1.7723, 0.7716, 1.1000,\n",
       "         0.0882]])"
      ]
     },
     "execution_count": 45,
     "metadata": {},
     "output_type": "execute_result"
    }
   ],
   "source": [
    "# Умножьте его на вектор [1, 4, 2, 2, 1] поэлементно\n",
    "tensor = (tensor.view(-1, 5) * torch.FloatTensor([1, 4, 2, 2, 1])).view(6,10)\n",
    "tensor"
   ]
  },
  {
   "cell_type": "code",
   "execution_count": 48,
   "metadata": {},
   "outputs": [
    {
     "data": {
      "text/plain": [
       "tensor([[27.1345, 18.3414, 14.9829, 21.5519, 23.3236, 18.1096],\n",
       "        [18.3414, 18.2823, 11.5188, 13.4184, 20.7475, 14.5247],\n",
       "        [14.9829, 11.5188, 12.0736, 12.4527, 11.0009,  8.2339],\n",
       "        [21.5519, 13.4184, 12.4527, 19.2010, 16.5246, 12.6111],\n",
       "        [23.3236, 20.7475, 11.0009, 16.5246, 29.0372, 19.7385],\n",
       "        [18.1096, 14.5247,  8.2339, 12.6111, 19.7385, 15.3390]])"
      ]
     },
     "execution_count": 48,
     "metadata": {},
     "output_type": "execute_result"
    }
   ],
   "source": [
    "# Умножьте тензор матрично на себя, чтобы результат был размерности 6x6\n",
    "torch.mm(tensor, tensor.transpose(0, 1))"
   ]
  },
  {
   "cell_type": "code",
   "execution_count": 69,
   "metadata": {},
   "outputs": [
    {
     "name": "stdout",
     "output_type": "stream",
     "text": [
      "x.grad.item()=3.0\n",
      "z.grad.item()=1.0\n",
      "t.grad.item()=-75.0\n"
     ]
    }
   ],
   "source": [
    "# Посчитайте производную функции y = x**3 + z - 75t в точке (1, 0.5, 2)\n",
    "x = torch.tensor(1.0, requires_grad = True)\n",
    "z = torch.tensor(0.5, requires_grad = True)\n",
    "t = torch.tensor(2.0, requires_grad = True)\n",
    "y = x**3 + z - 75*t\n",
    "y.backward()\n",
    "print(f'{x.grad.item()=}\\n{z.grad.item()=}\\n{t.grad.item()=}')"
   ]
  },
  {
   "cell_type": "code",
   "execution_count": 70,
   "metadata": {},
   "outputs": [
    {
     "data": {
      "text/plain": [
       "tensor([[1., 1., 1., 1., 1., 1.],\n",
       "        [1., 1., 1., 1., 1., 1.],\n",
       "        [1., 1., 1., 1., 1., 1.],\n",
       "        [1., 1., 1., 1., 1., 1.],\n",
       "        [1., 1., 1., 1., 1., 1.]])"
      ]
     },
     "execution_count": 70,
     "metadata": {},
     "output_type": "execute_result"
    }
   ],
   "source": [
    "# Создайте единичный тензор размера 5x6\n",
    "ones = torch.ones(5,6)\n",
    "ones"
   ]
  },
  {
   "cell_type": "code",
   "execution_count": 75,
   "metadata": {},
   "outputs": [
    {
     "data": {
      "text/plain": [
       "numpy.ndarray"
      ]
     },
     "execution_count": 75,
     "metadata": {},
     "output_type": "execute_result"
    }
   ],
   "source": [
    "# Переведите его в формат numpy\n",
    "type(ones.numpy())"
   ]
  },
  {
   "cell_type": "code",
   "execution_count": 206,
   "metadata": {},
   "outputs": [],
   "source": [
    "# Давайте теперь пооптимизируем: возьмите функцию y = x**w1 - 2 * x**2 + 5\n",
    "# Посчитайте "
   ]
  },
  {
   "cell_type": "code",
   "execution_count": 59,
   "metadata": {},
   "outputs": [],
   "source": [
    "def func(w, x):\n",
    "    return x**w1 - 2*x**2 + 5"
   ]
  },
  {
   "cell_type": "code",
   "execution_count": 60,
   "metadata": {},
   "outputs": [],
   "source": [
    "w1 = 2 # примем коэффициент w1 равным 2, оптимизатор должен будет прийти к этому значению"
   ]
  },
  {
   "cell_type": "code",
   "execution_count": 61,
   "metadata": {},
   "outputs": [
    {
     "data": {
      "text/plain": [
       "tensor([0.3532, 0.0961, 0.2820, 0.5417, 1.8658], requires_grad=True)"
      ]
     },
     "execution_count": 61,
     "metadata": {},
     "output_type": "execute_result"
    }
   ],
   "source": [
    "x = Variable(torch.square(torch.randn(5)), requires_grad=True)\n",
    "x"
   ]
  },
  {
   "cell_type": "code",
   "execution_count": 62,
   "metadata": {},
   "outputs": [
    {
     "data": {
      "text/plain": [
       "tensor([4.8752, 4.9908, 4.9205, 4.7066, 1.5190], grad_fn=<AddBackward0>)"
      ]
     },
     "execution_count": 62,
     "metadata": {},
     "output_type": "execute_result"
    }
   ],
   "source": [
    "y = func(w1, x)\n",
    "y # полученные истинные значения"
   ]
  },
  {
   "cell_type": "code",
   "execution_count": 64,
   "metadata": {},
   "outputs": [
    {
     "data": {
      "text/plain": [
       "tensor([0.0304], requires_grad=True)"
      ]
     },
     "execution_count": 64,
     "metadata": {},
     "output_type": "execute_result"
    }
   ],
   "source": [
    "w1 = torch.rand(1)  # получаем случайный коэффициент\n",
    "w1.requires_grad_()"
   ]
  },
  {
   "cell_type": "code",
   "execution_count": 65,
   "metadata": {},
   "outputs": [],
   "source": [
    "criterion = nn.MSELoss()\n",
    "optimizer = torch.optim.SGD([w1], lr=0.5)"
   ]
  },
  {
   "cell_type": "code",
   "execution_count": 66,
   "metadata": {
    "scrolled": true
   },
   "outputs": [
    {
     "data": {
      "text/plain": [
       "tensor([ 5.7194,  5.9129,  5.8032,  5.3947, -0.9430], grad_fn=<AddBackward0>)"
      ]
     },
     "execution_count": 66,
     "metadata": {},
     "output_type": "execute_result"
    }
   ],
   "source": [
    "# для примера вывод предсказаний со случайным коэффициентом, они конечно будут отличаться от истинных значений\n",
    "func(w1, x)"
   ]
  },
  {
   "cell_type": "code",
   "execution_count": 67,
   "metadata": {},
   "outputs": [
    {
     "name": "stdout",
     "output_type": "stream",
     "text": [
      "loss:  1.7753397226333618\n",
      "iteration 0, w1=tensor([1.2138], requires_grad=True), y=tensor([5.0332, 5.0398, 5.0561, 4.8883, 0.1698], grad_fn=<AddBackward0>)\n",
      "loss:  0.3798152208328247\n",
      "iteration 1, w1=tensor([1.6012], requires_grad=True), y=tensor([4.9394, 5.0050, 4.9727, 4.7878, 0.7524], grad_fn=<AddBackward0>)\n",
      "loss:  0.12026864290237427\n",
      "iteration 2, w1=tensor([1.8689], requires_grad=True), y=tensor([4.8935, 4.9941, 4.9348, 4.7311, 1.2456], grad_fn=<AddBackward0>)\n",
      "loss:  0.015176193788647652\n",
      "iteration 3, w1=tensor([1.9801], requires_grad=True), y=tensor([4.8778, 4.9912, 4.9225, 4.7102, 1.4760], grad_fn=<AddBackward0>)\n",
      "loss:  0.0003735333157237619\n",
      "iteration 4, w1=tensor([1.9988], requires_grad=True), y=tensor([4.8754, 4.9908, 4.9206, 4.7068, 1.5163], grad_fn=<AddBackward0>)\n",
      "loss:  1.4740147662450909e-06\n",
      "iteration 5, w1=tensor([1.9999], requires_grad=True), y=tensor([4.8752, 4.9908, 4.9205, 4.7066, 1.5188], grad_fn=<AddBackward0>)\n",
      "loss:  3.184641217401918e-09\n",
      "iteration 6, w1=tensor([2.0000], requires_grad=True), y=tensor([4.8752, 4.9908, 4.9205, 4.7066, 1.5190], grad_fn=<AddBackward0>)\n",
      "loss:  6.1049832723869546e-12\n",
      "iteration 7, w1=tensor([2.0000], requires_grad=True), y=tensor([4.8752, 4.9908, 4.9205, 4.7066, 1.5190], grad_fn=<AddBackward0>)\n",
      "loss:  4.547473576627277e-14\n",
      "iteration 8, w1=tensor([2.], requires_grad=True), y=tensor([4.8752, 4.9908, 4.9205, 4.7066, 1.5190], grad_fn=<AddBackward0>)\n",
      "loss:  0.0\n",
      "iteration 9, w1=tensor([2.], requires_grad=True), y=tensor([4.8752, 4.9908, 4.9205, 4.7066, 1.5190], grad_fn=<AddBackward0>)\n"
     ]
    }
   ],
   "source": [
    "y_pred = []\n",
    "EPOHS = 200\n",
    "for i in range(EPOHS):\n",
    "    optimizer.zero_grad()\n",
    "    pred = func(w1, x)\n",
    "    #print(pred)\n",
    "    loss = criterion(pred, y)\n",
    "    print('loss: ', loss.item()) \n",
    "    \n",
    "    loss.backward(retain_graph=True)\n",
    "    optimizer.step()\n",
    "    \n",
    "    print(f'iteration {i}, {w1=}, y={func(w1, x)}')\n",
    "    y_pred.append(func(w1, x).detach().numpy())\n",
    "    \n",
    "    if(loss.item()==0): break"
   ]
  },
  {
   "cell_type": "code",
   "execution_count": 75,
   "metadata": {},
   "outputs": [
    {
     "data": {
      "image/png": "[encoded data removed]",
      "text/plain": [
       "<Figure size 864x864 with 6 Axes>"
      ]
     },
     "metadata": {
      "needs_background": "light"
     },
     "output_type": "display_data"
    }
   ],
   "source": [
    "import matplotlib.pyplot as plt\n",
    "fig, axes = plt.subplots(3,2, figsize = (12,12))\n",
    "for i, ax in enumerate(axes.flatten()):\n",
    "    if i == len(y): break\n",
    "    y_predi = [y[i] for y in y_pred]\n",
    "    ax.plot(y_predi, label=f'predictions for y[{i}]')\n",
    "    ax.axhline(y.detach().numpy()[i], color='r', linestyle='-', label=f'y[{i}] real')\n",
    "    ax.set_xlabel('iteration', fontsize=12, color='blue')\n",
    "    ax.set_ylabel('y_pred', fontsize=12, color='blue')\n",
    "    ax.legend(loc='upper right')"
   ]
  }
 ],
 "metadata": {
  "kernelspec": {
   "display_name": "Python 3 (ipykernel)",
   "language": "python",
   "name": "python3"
  },
  "language_info": {
   "codemirror_mode": {
    "name": "ipython",
    "version": 3
   },
   "file_extension": ".py",
   "mimetype": "text/x-python",
   "name": "python",
   "nbconvert_exporter": "python",
   "pygments_lexer": "ipython3",
   "version": "3.9.7"
  }
 },
 "nbformat": 4,
 "nbformat_minor": 2
}
